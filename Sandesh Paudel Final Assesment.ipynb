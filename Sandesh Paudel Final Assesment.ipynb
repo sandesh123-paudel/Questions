{
 "cells": [
  {
   "cell_type": "markdown",
   "metadata": {},
   "source": [
    "# Final Assessment: Group Project Work  "
   ]
  },
  {
   "cell_type": "markdown",
   "metadata": {},
   "source": [
    "Fundamentals of Data Science"
   ]
  },
  {
   "cell_type": "markdown",
   "metadata": {},
   "source": [
    "BSc Computing SEC B"
   ]
  },
  {
   "cell_type": "markdown",
   "metadata": {},
   "source": [
    "GROUP 1\n",
    "\n",
    "1.   Prajwal Nepal\n",
    "\n",
    "2.   Sandesh Paudel\n",
    "\n",
    "3.   Pranij Joshi\n",
    "\n",
    "4.   Kasish Upreti\n",
    "\n",
    "5.   Supriya Shahi"
   ]
  },
  {
   "cell_type": "markdown",
   "metadata": {},
   "source": [
    "# Question 1:(20 points)"
   ]
  },
  {
   "cell_type": "markdown",
   "metadata": {},
   "source": [
    "During our class, we have seen how a k-NN algorithm works. A simple version of the algorithm is\n",
    "given below.\n",
    "The KNN Algorithm\n",
    "1. Load the data.\n",
    "2. Initialize K to your chosen number of neighbors.\n",
    "3. For each sample in the data (read from file):\n",
    "3.1 Calculate the distance between the query (user input) sample and the current sample from\n",
    "the data.\n",
    "3.2 Add the distance and the index of the sample to an ordered collection (your chosen data\n",
    "structure).\n",
    "4. Sort the ordered collection of distances and indices from smallest to largest (in ascending order) by the\n",
    "distances.\n",
    "5. Pick the first K entries from the sorted collection.\n",
    "6. Get the labels of the selected K entries.\n",
    "7. Depending on the labels you obtained, classify your new point.\n"
   ]
  },
  {
   "cell_type": "markdown",
   "metadata": {},
   "source": [
    "a. Based on this algorithm, write a Python function myknn that takes as inputs: 1. the value of K\n",
    "(no. of neighbors) and, 2. one data(example) to be classified, and performs k-NN based\n",
    "classification of that input point based on some old data which is read from the given file\n",
    "(Entrance_Selection.csv). The function should return the output class of the given input example.\n",
    "Make sure your function gives an exception if there is any problem when reading the file. Hint: Use\n",
    "exception handling.\n",
    "Note: The default value of k should be 5.\n"
   ]
  },
  {
   "cell_type": "code",
   "execution_count": null,
   "metadata": {},
   "outputs": [],
   "source": [
    "import pandas as pd\n",
    "import matplotlib.pylab as plt\n",
    "from sklearn.linear_model import LinearRegression\n",
    "import numpy as np\n",
    "from sklearn import neighbors\n",
    "\n",
    "def myknn(k, new_point):\n",
    "    try:\n",
    "        df = pd.read_csv('Entrance_Selection.csv')\n",
    "    except:\n",
    "        print(\"Could not find the file!!\")\n",
    "        \n",
    "    x = np.array(df)\n",
    "    X = x[:, 1:4]\n",
    "    y = np.array(df['admit'])\n",
    "\n",
    "    clf = neighbors.KNeighborsClassifier(k)\n",
    "    clf.fit(X, y)\n",
    "    print(\".........................................................\")\n",
    "    print(\"The accuracy when k=%d is %.2f%%\"%(k, clf.score(X, y)*100))\n",
    "    print(\".........................................................\")\n",
    "    return (clf.predict(new_point))\n",
    "    \n",
    "   \n",
    "        \n",
    "k = int(input(\"Enter the value of k: \"));\n",
    "new_point = np.array([[0,0,0]])\n",
    "new_point[0][0] = int(input(\"Enter the GRE score: \"))\n",
    "new_point[0][1] = float(input(\"Enter the G.P.A: \"))\n",
    "new_point[0][2] = int(input(\"Enter the Rank: \"))\n",
    "\n",
    "\n",
    "\n",
    "myknn(k, new_point)\n",
    "    \n",
    "    "
   ]
  },
  {
   "cell_type": "markdown",
   "metadata": {},
   "source": [
    "b. Now, place this function you just wrote in (a) inside a class named myclassifier, with necessary\n",
    "adjustments. This class should also contain a constructor which initializes the value of k = 5 by\n",
    "default. Also, when creating an object from this class, the user should be greeted with the following\n",
    "message automatically: “Welcome to the Classifier written by YOUR NAME and YOUR NAME.\n",
    "This classifier class can perform knn classification, and plot the results for you. How awesome!”\n"
   ]
  },
  {
   "cell_type": "code",
   "execution_count": null,
   "metadata": {},
   "outputs": [],
   "source": [
    "import pandas as pd\n",
    "import matplotlib.pylab as plt\n",
    "from sklearn.linear_model import LinearRegression\n",
    "import numpy as np\n",
    "from sklearn import neighbors\n",
    "\n",
    "class myclassifier:\n",
    "    \n",
    "    def __init__(self, new_point):\n",
    "        print(\"\\n......................................................................................\\n\")\n",
    "        print(\"Welcome to the classifier written by Pranij, Sandesh, Prajwal, Supriya and Kashis.\")\n",
    "        print(\"This classifier class can perform knn classification, and plot the results for you.\")\n",
    "        print(\"How awesome!\")\n",
    "        print(\"\\n......................................................................................\\n\")\n",
    "        self.k = 5\n",
    "        self.new_p = new_point\n",
    "        self.clf = neighbors.KNeighborsClassifier(self.k)\n",
    "        try:\n",
    "            df = pd.read_csv('Entrance_Selection.csv')\n",
    "        except:\n",
    "            print(\"No file found\")\n",
    "            \n",
    "        self.x = np.array(df)\n",
    "        self.X = self.x[:, 1:4]\n",
    "        self.y = np.array(df['admit'])\n",
    "       \n",
    "\n",
    "    def myknn(self):\n",
    "        \n",
    "        self.clf.fit(self.X, self.y)\n",
    "        \n",
    "        print(\"The accuracy when k=%d is %.2f%%\"%(self.k, self.clf.score(self.X, self.y)*100))\n",
    "        print(\"\\n.........................................................\\n\")\n",
    "        return (self.clf.predict(self.new_p))\n",
    "        \n",
    "   \n",
    "        \n",
    "new_point = np.array([[0,0,0]])\n",
    "new_point[0][0] = int(input(\"Enter the GRE score: \"))\n",
    "new_point[0][1] = float(input(\"Enter the G.P.A: \"))\n",
    "new_point[0][2] = int(input(\"Enter the Rank: \"))\n",
    "\n",
    "c = myclassifier(new_point)\n",
    "c.myknn() "
   ]
  },
  {
   "cell_type": "markdown",
   "metadata": {},
   "source": [
    "c. Finally, we also want to visualize the results. As such, write another method myplot inside the\n",
    "above class which gives a scatter plot of any two features of the data read from the file\n",
    "(Entrance_Selection.csv). Also plot the new data point to be classified- that was entered by the userin\n",
    "the same scatter plot (using different color)."
   ]
  },
  {
   "cell_type": "code",
   "execution_count": null,
   "metadata": {
    "scrolled": false
   },
   "outputs": [],
   "source": [
    "import pandas as pd\n",
    "import matplotlib.pylab as plt\n",
    "from sklearn.linear_model import LinearRegression\n",
    "import numpy as np\n",
    "from sklearn import neighbors\n",
    "from matplotlib.colors import ListedColormap\n",
    "\n",
    "\n",
    "class myclassifier:\n",
    "    \n",
    "    def __init__(self, new_point):\n",
    "        print(\"\\n......................................................................................\\n\")\n",
    "        print(\"Welcome to the classifier written by Pranij, Sandesh, Prajwal, Supriya and Kashis.\")\n",
    "        print(\"This classifier class can perform knn classification, and plot the results for you.\")\n",
    "        print(\"How awesome!\")\n",
    "        print(\"\\n......................................................................................\\n\")\n",
    "        self.k = 5\n",
    "        self.new_p = new_point\n",
    "        self.clf = neighbors.KNeighborsClassifier(self.k)\n",
    "        \n",
    "        df = pd.read_csv('Entrance_Selection.csv')\n",
    "\n",
    "        self.x = np.array(df)\n",
    "        self.X = self.x[:, 2:4]\n",
    "        self.y = np.array(df['admit'])\n",
    "\n",
    "    def myknn(self):\n",
    "            \n",
    "\n",
    "            \n",
    "        self.clf.fit(self.X, self.y)\n",
    "        \n",
    "        print(\"The accuracy when k=%d is %.2f%%\"%(self.k, self.clf.score(self.X, self.y)*100))\n",
    "        print(\"\\n.........................................................\\n\")\n",
    "        return (self.clf.predict(self.new_p))\n",
    "#             print(\"Could not find the file!!\")\n",
    "            \n",
    "    def myplot(self):\n",
    "        cmap_light = ListedColormap(['#FFAAAA', '#AAFFAA'])\n",
    "        cmap_bold = ListedColormap(['#FF0000', '#00FF00'])\n",
    "        \n",
    "        h = .02\n",
    "\n",
    "        x_min, x_max = self.X[:, 0].min() - 0.25, self.X[:, 0].max() + 0.5\n",
    "        y_min, y_max = self.X[:, 1].min() - 1, self.X[:, 1].max() + 1\n",
    "        xx, yy = np.meshgrid(np.arange(x_min, x_max, h),np.arange(y_min, y_max, h))\n",
    "        Z = self.clf.predict(np.c_[xx.ravel(), yy.ravel()])\n",
    "\n",
    "        Z = Z.reshape(xx.shape)\n",
    "        plt.figure()\n",
    "        plt.pcolormesh(xx, yy, Z, cmap=cmap_light)\n",
    "\n",
    "\n",
    "        plt.scatter(self.X[:, 0], self.X[:, 1], c=self.y, cmap=cmap_bold)\n",
    "        plt.xlim(xx.min(), xx.max())\n",
    "        plt.ylim(yy.min(), yy.max())\n",
    "        plt.title(\"2-Class classification with first two dimension(Entrance selection) (k = %i)\" % self.k)\n",
    "        plt.show()\n",
    "\n",
    "        \n",
    "new_point = np.array([[0,0]])\n",
    "new_point[0][0] = float(input(\"Enter the G.P.A: \"))\n",
    "new_point[0][1] = int(input(\"Enter the Rank: \"))\n",
    "\n",
    "c = myclassifier(new_point)\n",
    "admit = c.myknn()\n",
    "if admit == 1:\n",
    "    print(\"Admitted\")\n",
    "else:\n",
    "    print(\"Not admitted\")\n",
    "c.myplot()"
   ]
  },
  {
   "cell_type": "markdown",
   "metadata": {},
   "source": [
    "# Question 2: (15 points)\n"
   ]
  },
  {
   "cell_type": "markdown",
   "metadata": {},
   "source": [
    "In addition to how the k-NN algorithm works, we have also seen the Iris data set, and have\n",
    "understood how data is stored in scikit learn. There are other similar data sets available in the scikit\n",
    "learn library of which one very popular is the breast cancer wisconsin dataset. The dataset can be\n",
    "loaded as follows:\n",
    "from sklearn.datasets import load_breast_cancer\n"
   ]
  },
  {
   "cell_type": "markdown",
   "metadata": {},
   "source": [
    "a. Use the k-NN algorithm provided in the sklearn package (use k = 5) to classify the breast cancer\n",
    "data-set into their respective classes.\n"
   ]
  },
  {
   "cell_type": "code",
   "execution_count": null,
   "metadata": {},
   "outputs": [],
   "source": [
    "\n",
    "import pandas as pd\n",
    "import matplotlib.pylab as plt\n",
    "from sklearn.linear_model import LinearRegression\n",
    "import numpy as np\n",
    "from sklearn import neighbors\n",
    "from matplotlib.colors import ListedColormap\n",
    "from sklearn.datasets import load_breast_cancer\n",
    "\n",
    "cancer = load_breast_cancer()\n",
    "#print(cancer.keys())\n",
    "\n",
    "k = 15\n",
    "print(cancer.target_names)\n",
    "\n",
    "X = cancer.data\n",
    "y = cancer.target\n",
    "\n",
    "\n",
    "clf = neighbors.KNeighborsClassifier(k)\n",
    "clf.fit(X, y)\n",
    "\n",
    "print(\"The accuracy score with all the data is %.3f.\" %clf.score(X, y))"
   ]
  },
  {
   "cell_type": "markdown",
   "metadata": {},
   "source": [
    "b. Vary the number of nearest neighbors (k) from 5 to 100 in intervals of 10 and compare the\n",
    "training and the test scores. Take k = 5, k = 15, k = 25, k = 35 and so on. What is the optimum\n",
    "value of k which gives the best results. Demonstrate with numbers by printing the training and test\n",
    "scores.\n"
   ]
  },
  {
   "cell_type": "code",
   "execution_count": null,
   "metadata": {},
   "outputs": [],
   "source": [
    "import pandas as pd\n",
    "import matplotlib.pylab as plt\n",
    "from sklearn.linear_model import LinearRegression\n",
    "import numpy as np\n",
    "from sklearn import neighbors\n",
    "from matplotlib.colors import ListedColormap\n",
    "\n",
    "from sklearn.datasets import load_breast_cancer\n",
    "\n",
    "def myKNN(k):\n",
    "    cancer = load_breast_cancer()\n",
    "    #print(cancer.keys()\n",
    "    X = cancer.data\n",
    "    y = cancer.target\n",
    "\n",
    "    clf = neighbors.KNeighborsClassifier(k)\n",
    "    clf.fit(X, y)\n",
    "    print(\"When k = %d,the training score is: %.3f\" %(k, clf.score(X, y)))\n",
    "\n",
    "for i in range(5, 100, 10):\n",
    "    myKNN(i)\n"
   ]
  },
  {
   "cell_type": "markdown",
   "metadata": {},
   "source": [
    "c. Now repeat the step in (a) by using the Random Forest classifier. Compare the performance in\n",
    "both the cases. Does the performance improve when using this new algorithm (Random Forest)\n",
    "compared to k-NN. Demonstrate with examples by using accuracy score.\n",
    "Hint: You can choose the best value of k that you obtained above when making this comparison."
   ]
  },
  {
   "cell_type": "code",
   "execution_count": null,
   "metadata": {},
   "outputs": [],
   "source": [
    "import pandas as pd\n",
    "import matplotlib.pylab as plt\n",
    "import numpy as np\n",
    "from sklearn import neighbors\n",
    "from sklearn.ensemble import RandomForestClassifier\n",
    "\n",
    "from sklearn.datasets import load_breast_cancer\n",
    "\n",
    "k = 5 \n",
    "\n",
    "cancer = load_breast_cancer()\n",
    "#print(cancer.keys()\n",
    "X = cancer.data\n",
    "y = cancer.target\n",
    "\n",
    "nn_clf = neighbors.KNeighborsClassifier(k)\n",
    "nn_clf.fit(X, y)\n",
    "\n",
    "rf_clf = RandomForestClassifier()\n",
    "rf_clf.fit(X, y)\n",
    "\n",
    "print(\"Using KNN classification, when k = %d we get the best accuracy score which is: %.3f\" %(k, nn_clf.score(X, y)))\n",
    "print(\"Using random forest the accuracy score is %.3f\" %rf_clf.score(X, y))\n"
   ]
  },
  {
   "cell_type": "markdown",
   "metadata": {},
   "source": [
    "# Question 3: (15 points)\n"
   ]
  },
  {
   "cell_type": "markdown",
   "metadata": {},
   "source": [
    "The file tourist_arrival.csv shows the number of tourists that visited Nepal each month from the\n",
    "year 1992 to the year 2013.\n"
   ]
  },
  {
   "cell_type": "markdown",
   "metadata": {},
   "source": [
    "a. Using the data in the file “tourist_arrival.csv”, fit a Linear Regression curve to the given data.\n"
   ]
  },
  {
   "cell_type": "code",
   "execution_count": 1,
   "metadata": {},
   "outputs": [
    {
     "name": "stdout",
     "output_type": "stream",
     "text": [
      "LinearRegression()\n"
     ]
    }
   ],
   "source": [
    "import pandas as pd\n",
    "import matplotlib.pylab as plt\n",
    "from sklearn.linear_model import LinearRegression\n",
    "import numpy as np\n",
    "\n",
    "df = pd.read_csv('tourist_arrival.csv')\n",
    "\n",
    "del df['Year']\n",
    "del df['Total']\n",
    "\n",
    "value = np.array(df.values)\n",
    "\n",
    "value = value.ravel\n",
    "x = np.arange(0, len(value()))\n",
    "X = x[:, np.newaxis]\n",
    "y = value()\n",
    "\n",
    "\n",
    "model = LinearRegression()\n",
    "\n",
    "\n",
    "print(model.fit(X, y))\n",
    "m = model.coef_\n",
    "c = model.intercept_"
   ]
  },
  {
   "cell_type": "markdown",
   "metadata": {},
   "source": [
    "b. Using matplotlib, plot the linear regression line over the given data set to visualize how well your\n",
    "model fits the original data.\n"
   ]
  },
  {
   "cell_type": "code",
   "execution_count": 2,
   "metadata": {},
   "outputs": [
    {
     "data": {
      "text/plain": [
       "Text(0, 0.5, 'Number of People')"
      ]
     },
     "execution_count": 2,
     "metadata": {},
     "output_type": "execute_result"
    },
    {
     "data": {
      "image/png": "[encoded data removed]",
      "text/plain": [
       "<Figure size 432x288 with 1 Axes>"
      ]
     },
     "metadata": {
      "needs_background": "light"
     },
     "output_type": "display_data"
    }
   ],
   "source": [
    "plt.plot(X, y, 'r.', label = 'Test values')\n",
    "\n",
    "y_new = m*X+c\n",
    "plt.plot(X, y_new, label = 'Linear Regression')\n",
    "plt.legend(loc = 'best', fontsize = 'large')\n",
    "plt.xlabel('Months')\n",
    "plt.ylabel('Number of People')"
   ]
  },
  {
   "cell_type": "markdown",
   "metadata": {},
   "source": [
    "c. Using your newly fitted model, can you predict the number of tourists that arrived in February\n",
    "2019?"
   ]
  },
  {
   "cell_type": "code",
   "execution_count": 3,
   "metadata": {},
   "outputs": [
    {
     "name": "stdout",
     "output_type": "stream",
     "text": [
      "The predicted number of tourist on feb 2019 is 62840.381\n"
     ]
    },
    {
     "data": {
      "image/png": "[encoded data removed]",
      "text/plain": [
       "<Figure size 432x288 with 1 Axes>"
      ]
     },
     "metadata": {
      "needs_background": "light"
     },
     "output_type": "display_data"
    }
   ],
   "source": [
    "x_new = np.arange(0, 325)\n",
    "y_new = m*x_new+c\n",
    "feb2019 = m *324 +c\n",
    "plt.scatter(X, y, label = 'No. of tourist per month')\n",
    "\n",
    "plt.plot(x_new, y_new, 'r-', label = 'Linear Regression')\n",
    "plt.plot(324, feb2019, 'g*', label = 'Tourist Prediction Feb 2019')\n",
    "plt.legend(loc = 'best', fontsize = 'large')\n",
    "plt.xlabel('Months')\n",
    "plt.ylabel('Number of People')\n",
    "print(\"The predicted number of tourist on feb 2019 is %.3f\" %feb2019)"
   ]
  }
 ],
 "metadata": {
  "kernelspec": {
   "display_name": "Python 3",
   "language": "python",
   "name": "python3"
  },
  "language_info": {
   "codemirror_mode": {
    "name": "ipython",
    "version": 3
   },
   "file_extension": ".py",
   "mimetype": "text/x-python",
   "name": "python",
   "nbconvert_exporter": "python",
   "pygments_lexer": "ipython3",
   "version": "3.8.5"
  }
 },
 "nbformat": 4,
 "nbformat_minor": 4
}
